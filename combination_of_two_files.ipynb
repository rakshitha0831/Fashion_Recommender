{
 "cells": [
  {
   "cell_type": "code",
   "execution_count": null,
   "id": "e20b0a57-0b31-40ea-bff4-4f521505ac23",
   "metadata": {},
   "outputs": [],
   "source": [
    "#Match each cleaned search query to the most relevant products from the fashion catalog."
   ]
  },
  {
   "cell_type": "code",
   "execution_count": 1,
   "id": "e3056897-a663-41b5-9c8d-c3ee55dc86c4",
   "metadata": {},
   "outputs": [],
   "source": [
    "import pandas as pd\n",
    "\n",
    "# Load cleaned search history and product catalog\n",
    "df_search = pd.read_csv('cleaned_search_queries.csv')\n",
    "df_catalog = pd.read_csv('fashion_catalog_cleaned.csv')\n"
   ]
  },
  {
   "cell_type": "code",
   "execution_count": 3,
   "id": "cf5b56bf-030a-4b1b-9da4-56991876c852",
   "metadata": {},
   "outputs": [],
   "source": [
    "# Fill missing fields and create a combined description\n",
    "df_catalog.fillna('', inplace=True)\n",
    "\n",
    "# Create a combined field for matching\n",
    "df_catalog['combined_text'] = (\n",
    "    df_catalog['SHORT_DESCRIPTION'].astype(str).str.lower() + ' ' +\n",
    "    df_catalog['CATEGORY'].astype(str).str.lower() + ' ' +\n",
    "    df_catalog['LONG_DESCRIPTION'].astype(str).str.lower()\n",
    ")"
   ]
  },
  {
   "cell_type": "code",
   "execution_count": 5,
   "id": "1d7b11d3-51ea-485c-90ad-d05c3d59e75b",
   "metadata": {},
   "outputs": [],
   "source": [
    "# Sample for speed: use only first 10 queries and first 500 products\n",
    "df_catalog_sample = df_catalog.head(500).copy()\n",
    "search_queries_sample = df_search['query'].astype(str).head(10).tolist()\n",
    "\n",
    "# Rebuild combined text just in case\n",
    "df_catalog_sample['combined_text'] = (\n",
    "    df_catalog_sample['SHORT_DESCRIPTION'].astype(str).str.lower() + ' ' +\n",
    "    df_catalog_sample['CATEGORY'].astype(str).str.lower() + ' ' +\n",
    "    df_catalog_sample['LONG_DESCRIPTION'].astype(str).str.lower()\n",
    ")\n"
   ]
  },
  {
   "cell_type": "code",
   "execution_count": 7,
   "id": "d9c3eed3-850b-4b00-9bd4-b3424d6e77b9",
   "metadata": {},
   "outputs": [],
   "source": [
    "from sklearn.feature_extraction.text import TfidfVectorizer\n",
    "from sklearn.metrics.pairwise import cosine_similarity\n",
    "\n",
    "# Vectorize product descriptions\n",
    "vectorizer = TfidfVectorizer(stop_words='english')\n",
    "product_tfidf = vectorizer.fit_transform(df_catalog_sample['combined_text'])\n",
    "\n",
    "# Vectorize search queries\n",
    "search_tfidf = vectorizer.transform(search_queries_sample)\n",
    "\n",
    "# Match each query to top 3 products\n",
    "matches = []\n",
    "for i, query in enumerate(search_queries_sample):\n",
    "    sim_scores = cosine_similarity(search_tfidf[i], product_tfidf).flatten()\n",
    "    top_indices = sim_scores.argsort()[-3:][::-1]  # Top 3 matches\n",
    "\n",
    "    for idx in top_indices:\n",
    "        matches.append({\n",
    "            'search_query': query,\n",
    "            'matched_product': df_catalog_sample.iloc[idx]['SHORT_DESCRIPTION'],\n",
    "            'category': df_catalog_sample.iloc[idx]['CATEGORY'],\n",
    "            'match_score': round(sim_scores[idx], 3),\n",
    "            'product_url': df_catalog_sample.iloc[idx]['LYST_PRODUCT_URL']\n",
    "        })\n"
   ]
  },
  {
   "cell_type": "code",
   "execution_count": 9,
   "id": "9053b27b-1b4e-409b-8537-60b6f3baa7a3",
   "metadata": {},
   "outputs": [
    {
     "data": {
      "text/html": [
       "<div>\n",
       "<style scoped>\n",
       "    .dataframe tbody tr th:only-of-type {\n",
       "        vertical-align: middle;\n",
       "    }\n",
       "\n",
       "    .dataframe tbody tr th {\n",
       "        vertical-align: top;\n",
       "    }\n",
       "\n",
       "    .dataframe thead th {\n",
       "        text-align: right;\n",
       "    }\n",
       "</style>\n",
       "<table border=\"1\" class=\"dataframe\">\n",
       "  <thead>\n",
       "    <tr style=\"text-align: right;\">\n",
       "      <th></th>\n",
       "      <th>search_query</th>\n",
       "      <th>matched_product</th>\n",
       "      <th>category</th>\n",
       "      <th>match_score</th>\n",
       "      <th>product_url</th>\n",
       "    </tr>\n",
       "  </thead>\n",
       "  <tbody>\n",
       "    <tr>\n",
       "      <th>0</th>\n",
       "      <td>elon musk shivon zilis</td>\n",
       "      <td>Metropolis Mini Top Handle -- Light Handbag Le...</td>\n",
       "      <td>top handle bags</td>\n",
       "      <td>0.0</td>\n",
       "      <td>https://www.lyst.com/bags/furla-metropolis-min...</td>\n",
       "    </tr>\n",
       "    <tr>\n",
       "      <th>1</th>\n",
       "      <td>elon musk shivon zilis</td>\n",
       "      <td>Paisley Dress With Ruffles</td>\n",
       "      <td>dresses</td>\n",
       "      <td>0.0</td>\n",
       "      <td>https://www.lyst.com/clothing/mango-paisley-dr...</td>\n",
       "    </tr>\n",
       "    <tr>\n",
       "      <th>2</th>\n",
       "      <td>elon musk shivon zilis</td>\n",
       "      <td>Mules &amp; Clogs</td>\n",
       "      <td>flats</td>\n",
       "      <td>0.0</td>\n",
       "      <td>https://www.lyst.com/shoes/ugg-tasman-shearlin...</td>\n",
       "    </tr>\n",
       "    <tr>\n",
       "      <th>3</th>\n",
       "      <td>bank station fire alert</td>\n",
       "      <td>Metropolis Mini Top Handle -- Light Handbag Le...</td>\n",
       "      <td>top handle bags</td>\n",
       "      <td>0.0</td>\n",
       "      <td>https://www.lyst.com/bags/furla-metropolis-min...</td>\n",
       "    </tr>\n",
       "    <tr>\n",
       "      <th>4</th>\n",
       "      <td>bank station fire alert</td>\n",
       "      <td>Paisley Dress With Ruffles</td>\n",
       "      <td>dresses</td>\n",
       "      <td>0.0</td>\n",
       "      <td>https://www.lyst.com/clothing/mango-paisley-dr...</td>\n",
       "    </tr>\n",
       "  </tbody>\n",
       "</table>\n",
       "</div>"
      ],
      "text/plain": [
       "              search_query                                    matched_product  \\\n",
       "0   elon musk shivon zilis  Metropolis Mini Top Handle -- Light Handbag Le...   \n",
       "1   elon musk shivon zilis                         Paisley Dress With Ruffles   \n",
       "2   elon musk shivon zilis                                      Mules & Clogs   \n",
       "3  bank station fire alert  Metropolis Mini Top Handle -- Light Handbag Le...   \n",
       "4  bank station fire alert                         Paisley Dress With Ruffles   \n",
       "\n",
       "          category  match_score  \\\n",
       "0  top handle bags          0.0   \n",
       "1          dresses          0.0   \n",
       "2            flats          0.0   \n",
       "3  top handle bags          0.0   \n",
       "4          dresses          0.0   \n",
       "\n",
       "                                         product_url  \n",
       "0  https://www.lyst.com/bags/furla-metropolis-min...  \n",
       "1  https://www.lyst.com/clothing/mango-paisley-dr...  \n",
       "2  https://www.lyst.com/shoes/ugg-tasman-shearlin...  \n",
       "3  https://www.lyst.com/bags/furla-metropolis-min...  \n",
       "4  https://www.lyst.com/clothing/mango-paisley-dr...  "
      ]
     },
     "execution_count": 9,
     "metadata": {},
     "output_type": "execute_result"
    }
   ],
   "source": [
    "# Convert results to DataFrame\n",
    "df_matches = pd.DataFrame(matches)\n",
    "\n",
    "# Preview\n",
    "df_matches.head()\n"
   ]
  },
  {
   "cell_type": "code",
   "execution_count": 11,
   "id": "dc996476-c3f7-4164-9948-54d8bf035382",
   "metadata": {},
   "outputs": [
    {
     "name": "stdout",
     "output_type": "stream",
     "text": [
      "Saved to product_recommendations_sample.csv\n"
     ]
    }
   ],
   "source": [
    "df_matches.to_csv('product_recommendations_sample.csv', index=False)\n",
    "print(\"Saved to product_recommendations_sample.csv\")\n"
   ]
  },
  {
   "cell_type": "code",
   "execution_count": null,
   "id": "8817c781-04dc-41dd-a292-48b924ec032c",
   "metadata": {},
   "outputs": [],
   "source": []
  }
 ],
 "metadata": {
  "kernelspec": {
   "display_name": "Python [conda env:base] *",
   "language": "python",
   "name": "conda-base-py"
  },
  "language_info": {
   "codemirror_mode": {
    "name": "ipython",
    "version": 3
   },
   "file_extension": ".py",
   "mimetype": "text/x-python",
   "name": "python",
   "nbconvert_exporter": "python",
   "pygments_lexer": "ipython3",
   "version": "3.12.7"
  }
 },
 "nbformat": 4,
 "nbformat_minor": 5
}
